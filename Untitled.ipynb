{
 "cells": [
  {
   "cell_type": "code",
   "execution_count": 1,
   "metadata": {},
   "outputs": [],
   "source": [
    "%load_ext autoreload\n",
    "%autoreload 2"
   ]
  },
  {
   "cell_type": "code",
   "execution_count": 2,
   "metadata": {},
   "outputs": [],
   "source": [
    "import pandas as pd\n",
    "import datetime"
   ]
  },
  {
   "cell_type": "code",
   "execution_count": 22,
   "metadata": {},
   "outputs": [
    {
     "data": {
      "text/html": [
       "<div>\n",
       "<style scoped>\n",
       "    .dataframe tbody tr th:only-of-type {\n",
       "        vertical-align: middle;\n",
       "    }\n",
       "\n",
       "    .dataframe tbody tr th {\n",
       "        vertical-align: top;\n",
       "    }\n",
       "\n",
       "    .dataframe thead th {\n",
       "        text-align: right;\n",
       "    }\n",
       "</style>\n",
       "<table border=\"1\" class=\"dataframe\">\n",
       "  <thead>\n",
       "    <tr style=\"text-align: right;\">\n",
       "      <th></th>\n",
       "      <th>Rank</th>\n",
       "      <th>X_class</th>\n",
       "      <th>Region</th>\n",
       "      <th>Start_time</th>\n",
       "      <th>Max_time</th>\n",
       "      <th>End_time</th>\n",
       "    </tr>\n",
       "  </thead>\n",
       "  <tbody>\n",
       "    <tr>\n",
       "      <th>0</th>\n",
       "      <td>1</td>\n",
       "      <td>X28+</td>\n",
       "      <td>486</td>\n",
       "      <td>2003-11-04 19:29:00</td>\n",
       "      <td>2003-11-04 19:53:00</td>\n",
       "      <td>2003-11-04 20:06:00</td>\n",
       "    </tr>\n",
       "    <tr>\n",
       "      <th>1</th>\n",
       "      <td>2</td>\n",
       "      <td>X20+</td>\n",
       "      <td>9393</td>\n",
       "      <td>2001-04-02 21:32:00</td>\n",
       "      <td>2001-04-02 21:51:00</td>\n",
       "      <td>2001-04-02 22:03:00</td>\n",
       "    </tr>\n",
       "    <tr>\n",
       "      <th>2</th>\n",
       "      <td>3</td>\n",
       "      <td>X17.2+</td>\n",
       "      <td>486</td>\n",
       "      <td>2003-10-28 09:51:00</td>\n",
       "      <td>2003-10-28 11:10:00</td>\n",
       "      <td>2003-10-28 11:24:00</td>\n",
       "    </tr>\n",
       "    <tr>\n",
       "      <th>3</th>\n",
       "      <td>4</td>\n",
       "      <td>X17+</td>\n",
       "      <td>808</td>\n",
       "      <td>2005-09-07 17:17:00</td>\n",
       "      <td>2005-09-07 17:40:00</td>\n",
       "      <td>2005-09-07 18:03:00</td>\n",
       "    </tr>\n",
       "    <tr>\n",
       "      <th>4</th>\n",
       "      <td>5</td>\n",
       "      <td>X14.4</td>\n",
       "      <td>9415</td>\n",
       "      <td>2001-04-15 13:19:00</td>\n",
       "      <td>2001-04-15 13:50:00</td>\n",
       "      <td>2001-04-15 13:55:00</td>\n",
       "    </tr>\n",
       "  </tbody>\n",
       "</table>\n",
       "</div>"
      ],
      "text/plain": [
       "   Rank X_class  Region           Start_time             Max_time  \\\n",
       "0     1    X28+     486  2003-11-04 19:29:00  2003-11-04 19:53:00   \n",
       "1     2    X20+    9393  2001-04-02 21:32:00  2001-04-02 21:51:00   \n",
       "2     3  X17.2+     486  2003-10-28 09:51:00  2003-10-28 11:10:00   \n",
       "3     4    X17+     808  2005-09-07 17:17:00  2005-09-07 17:40:00   \n",
       "4     5   X14.4    9415  2001-04-15 13:19:00  2001-04-15 13:50:00   \n",
       "\n",
       "              End_time  \n",
       "0  2003-11-04 20:06:00  \n",
       "1  2001-04-02 22:03:00  \n",
       "2  2003-10-28 11:24:00  \n",
       "3  2005-09-07 18:03:00  \n",
       "4  2001-04-15 13:55:00  "
      ]
     },
     "execution_count": 22,
     "metadata": {},
     "output_type": "execute_result"
    }
   ],
   "source": [
    "data = pd.read_csv('space.csv', index_col=0)\n",
    "data.head()"
   ]
  },
  {
   "cell_type": "code",
   "execution_count": 7,
   "metadata": {},
   "outputs": [],
   "source": [
    "import pandas as pd"
   ]
  },
  {
   "cell_type": "code",
   "execution_count": 23,
   "metadata": {},
   "outputs": [
    {
     "data": {
      "text/plain": [
       "Rank           int64\n",
       "X_class       object\n",
       "Region         int64\n",
       "Start_time    object\n",
       "Max_time      object\n",
       "End_time      object\n",
       "dtype: object"
      ]
     },
     "execution_count": 23,
     "metadata": {},
     "output_type": "execute_result"
    }
   ],
   "source": [
    "data.dtypes"
   ]
  },
  {
   "cell_type": "code",
   "execution_count": 64,
   "metadata": {},
   "outputs": [],
   "source": [
    "data.Start_time, data.End_time = pd.to_datetime(data.Start_time), pd.to_datetime(data.End_time)"
   ]
  },
  {
   "cell_type": "code",
   "execution_count": 65,
   "metadata": {},
   "outputs": [
    {
     "data": {
      "text/plain": [
       "Rank                    int64\n",
       "X_class                object\n",
       "Region                  int64\n",
       "Start_time     datetime64[ns]\n",
       "Max_time               object\n",
       "End_time       datetime64[ns]\n",
       "Duration      timedelta64[ns]\n",
       "dtype: object"
      ]
     },
     "execution_count": 65,
     "metadata": {},
     "output_type": "execute_result"
    }
   ],
   "source": [
    "data.dtypes"
   ]
  },
  {
   "cell_type": "code",
   "execution_count": 26,
   "metadata": {},
   "outputs": [
    {
     "data": {
      "text/plain": [
       "0    00:37:00\n",
       "1    00:31:00\n",
       "2    01:33:00\n",
       "3    00:46:00\n",
       "4    00:36:00\n",
       "5    00:24:00\n",
       "6    00:12:00\n",
       "7    00:17:00\n",
       "8    00:27:00\n",
       "9    00:36:00\n",
       "10   00:56:00\n",
       "11   00:50:00\n",
       "12   00:20:00\n",
       "13   00:31:00\n",
       "14   01:23:00\n",
       "15   00:15:00\n",
       "16   00:40:00\n",
       "17   00:21:00\n",
       "18   00:38:00\n",
       "19   00:25:00\n",
       "20   00:30:00\n",
       "21   00:41:00\n",
       "22   00:24:00\n",
       "23   00:18:00\n",
       "24   00:29:00\n",
       "25   00:22:00\n",
       "26   00:36:00\n",
       "27   00:15:00\n",
       "28   03:08:00\n",
       "29   00:19:00\n",
       "30   00:26:00\n",
       "31   00:12:00\n",
       "32   00:22:00\n",
       "33   00:43:00\n",
       "34   01:30:00\n",
       "35   00:08:00\n",
       "36   00:50:00\n",
       "37   01:19:00\n",
       "38   01:20:00\n",
       "39   01:06:00\n",
       "40   00:42:00\n",
       "41   00:15:00\n",
       "42   00:28:00\n",
       "43   00:16:00\n",
       "44   00:18:00\n",
       "45   00:10:00\n",
       "46   00:36:00\n",
       "47   00:22:00\n",
       "48   01:06:00\n",
       "49   01:37:00\n",
       "Name: Duration, dtype: timedelta64[ns]"
      ]
     },
     "execution_count": 26,
     "metadata": {},
     "output_type": "execute_result"
    }
   ],
   "source": [
    "data['Duration'] = data.End_time - data.Start_time\n",
    "data['Duration']"
   ]
  },
  {
   "cell_type": "markdown",
   "metadata": {},
   "source": [
    "#### Greedy Algorithm Steps\n",
    "1. Sort the Durations in increasing order\n",
    "2. select each duration item one-by-one\n",
    "3. the time of the event to currentTime \n",
    "4. add one to number of things\n"
   ]
  },
  {
   "cell_type": "code",
   "execution_count": 28,
   "metadata": {},
   "outputs": [],
   "source": [
    "# 1. sort the durations in non-decreasing order\n",
    "data.sort_values('Duration', inplace=True)"
   ]
  },
  {
   "cell_type": "code",
   "execution_count": 85,
   "metadata": {},
   "outputs": [],
   "source": [
    "maxTime = datetime.timedelta(hours = 1)\n",
    "currentTime = datetime.timedelta(minutes=0)\n",
    "numberOfEvents = 0"
   ]
  },
  {
   "cell_type": "code",
   "execution_count": 86,
   "metadata": {},
   "outputs": [
    {
     "name": "stdout",
     "output_type": "stream",
     "text": [
      "0 days 00:08:00\n",
      "0 days 00:10:00\n",
      "0 days 00:12:00\n",
      "0 days 00:12:00\n",
      "0 days 00:15:00\n",
      "**********\n",
      "0 days 00:57:00\n"
     ]
    },
    {
     "data": {
      "text/plain": [
       "5"
      ]
     },
     "execution_count": 86,
     "metadata": {},
     "output_type": "execute_result"
    }
   ],
   "source": [
    "# Loop through the durations of the events\n",
    "for duration in data.Duration:\n",
    "    # add the current duration to the currentTime\n",
    "    currentTime += duration\n",
    "    if currentTime > maxTime:\n",
    "        currentTime -= duration\n",
    "        break\n",
    "    print(duration)\n",
    "    numberOfEvents+=1\n",
    "print('*'*10)\n",
    "print(currentTime)\n",
    "numberOfEvents"
   ]
  },
  {
   "cell_type": "code",
   "execution_count": 45,
   "metadata": {},
   "outputs": [
    {
     "data": {
      "text/plain": [
       "datetime.timedelta(seconds=600)"
      ]
     },
     "execution_count": 45,
     "metadata": {},
     "output_type": "execute_result"
    }
   ],
   "source": [
    "x"
   ]
  },
  {
   "cell_type": "code",
   "execution_count": 46,
   "metadata": {},
   "outputs": [
    {
     "data": {
      "text/plain": [
       "datetime.timedelta(seconds=3600)"
      ]
     },
     "execution_count": 46,
     "metadata": {},
     "output_type": "execute_result"
    }
   ],
   "source": [
    "maxTime = datetime.timedelta(hours=1); maxTime"
   ]
  },
  {
   "cell_type": "code",
   "execution_count": 50,
   "metadata": {},
   "outputs": [
    {
     "data": {
      "text/plain": [
       "Timedelta('0 days 03:08:00')"
      ]
     },
     "execution_count": 50,
     "metadata": {},
     "output_type": "execute_result"
    }
   ],
   "source": [
    "duration"
   ]
  },
  {
   "cell_type": "code",
   "execution_count": 51,
   "metadata": {},
   "outputs": [
    {
     "data": {
      "text/plain": [
       "datetime.timedelta(seconds=3600)"
      ]
     },
     "execution_count": 51,
     "metadata": {},
     "output_type": "execute_result"
    }
   ],
   "source": [
    "maxTime"
   ]
  },
  {
   "cell_type": "code",
   "execution_count": 53,
   "metadata": {},
   "outputs": [
    {
     "data": {
      "text/plain": [
       "Timedelta('0 days 02:08:00')"
      ]
     },
     "execution_count": 53,
     "metadata": {},
     "output_type": "execute_result"
    }
   ],
   "source": [
    "duration - maxTime"
   ]
  },
  {
   "cell_type": "code",
   "execution_count": null,
   "metadata": {},
   "outputs": [],
   "source": []
  },
  {
   "cell_type": "code",
   "execution_count": 47,
   "metadata": {},
   "outputs": [
    {
     "data": {
      "text/plain": [
       "datetime.timedelta(seconds=3000)"
      ]
     },
     "execution_count": 47,
     "metadata": {},
     "output_type": "execute_result"
    }
   ],
   "source": [
    "maxTime - currentTime"
   ]
  },
  {
   "cell_type": "code",
   "execution_count": 21,
   "metadata": {},
   "outputs": [],
   "source": [
    "import greedy"
   ]
  },
  {
   "cell_type": "code",
   "execution_count": 49,
   "metadata": {},
   "outputs": [],
   "source": [
    "output, no, currentTime = greedy.maxNoOfEvnets(3)"
   ]
  },
  {
   "cell_type": "code",
   "execution_count": 50,
   "metadata": {},
   "outputs": [],
   "source": [
    "output = pd.DataFrame(output)"
   ]
  },
  {
   "cell_type": "code",
   "execution_count": 51,
   "metadata": {},
   "outputs": [
    {
     "data": {
      "text/html": [
       "<div>\n",
       "<style scoped>\n",
       "    .dataframe tbody tr th:only-of-type {\n",
       "        vertical-align: middle;\n",
       "    }\n",
       "\n",
       "    .dataframe tbody tr th {\n",
       "        vertical-align: top;\n",
       "    }\n",
       "\n",
       "    .dataframe thead th {\n",
       "        text-align: right;\n",
       "    }\n",
       "</style>\n",
       "<table border=\"1\" class=\"dataframe\">\n",
       "  <thead>\n",
       "    <tr style=\"text-align: right;\">\n",
       "      <th></th>\n",
       "      <th>Rank</th>\n",
       "      <th>X_class</th>\n",
       "      <th>Region</th>\n",
       "      <th>Start_time</th>\n",
       "      <th>Max_time</th>\n",
       "      <th>End_time</th>\n",
       "      <th>Duration</th>\n",
       "    </tr>\n",
       "  </thead>\n",
       "  <tbody>\n",
       "    <tr>\n",
       "      <th>35</th>\n",
       "      <td>36</td>\n",
       "      <td>X3.3</td>\n",
       "      <td>1890</td>\n",
       "      <td>2013-11-05 22:07:00</td>\n",
       "      <td>2013-11-05 22:12:00</td>\n",
       "      <td>2013-11-05 22:15:00</td>\n",
       "      <td>00:08:00</td>\n",
       "    </tr>\n",
       "    <tr>\n",
       "      <th>45</th>\n",
       "      <td>46</td>\n",
       "      <td>X2.7</td>\n",
       "      <td>2339</td>\n",
       "      <td>2015-05-05 22:05:00</td>\n",
       "      <td>2015-05-05 22:11:00</td>\n",
       "      <td>2015-05-05 22:15:00</td>\n",
       "      <td>00:10:00</td>\n",
       "    </tr>\n",
       "    <tr>\n",
       "      <th>31</th>\n",
       "      <td>32</td>\n",
       "      <td>X3.6</td>\n",
       "      <td>649</td>\n",
       "      <td>2004-07-16 13:49:00</td>\n",
       "      <td>2004-07-16 13:55:00</td>\n",
       "      <td>2004-07-16 14:01:00</td>\n",
       "      <td>00:12:00</td>\n",
       "    </tr>\n",
       "    <tr>\n",
       "      <th>6</th>\n",
       "      <td>7</td>\n",
       "      <td>X9.4</td>\n",
       "      <td>8100</td>\n",
       "      <td>1997-11-06 11:49:00</td>\n",
       "      <td>1997-11-06 11:55:00</td>\n",
       "      <td>1997-11-06 12:01:00</td>\n",
       "      <td>00:12:00</td>\n",
       "    </tr>\n",
       "    <tr>\n",
       "      <th>15</th>\n",
       "      <td>16</td>\n",
       "      <td>X6.2</td>\n",
       "      <td>9733</td>\n",
       "      <td>2001-12-13 14:20:00</td>\n",
       "      <td>2001-12-13 14:30:00</td>\n",
       "      <td>2001-12-13 14:35:00</td>\n",
       "      <td>00:15:00</td>\n",
       "    </tr>\n",
       "    <tr>\n",
       "      <th>27</th>\n",
       "      <td>28</td>\n",
       "      <td>X3.9</td>\n",
       "      <td>8307</td>\n",
       "      <td>1998-08-19 21:35:00</td>\n",
       "      <td>1998-08-19 21:45:00</td>\n",
       "      <td>1998-08-19 21:50:00</td>\n",
       "      <td>00:15:00</td>\n",
       "    </tr>\n",
       "    <tr>\n",
       "      <th>41</th>\n",
       "      <td>42</td>\n",
       "      <td>X3</td>\n",
       "      <td>30</td>\n",
       "      <td>2002-07-15 19:59:00</td>\n",
       "      <td>2002-07-15 20:08:00</td>\n",
       "      <td>2002-07-15 20:14:00</td>\n",
       "      <td>00:15:00</td>\n",
       "    </tr>\n",
       "    <tr>\n",
       "      <th>43</th>\n",
       "      <td>44</td>\n",
       "      <td>X2.8</td>\n",
       "      <td>9733</td>\n",
       "      <td>2001-12-11 07:58:00</td>\n",
       "      <td>2001-12-11 08:08:00</td>\n",
       "      <td>2001-12-11 08:14:00</td>\n",
       "      <td>00:16:00</td>\n",
       "    </tr>\n",
       "    <tr>\n",
       "      <th>7</th>\n",
       "      <td>8</td>\n",
       "      <td>X9.3</td>\n",
       "      <td>2673</td>\n",
       "      <td>2017-09-06 11:53:00</td>\n",
       "      <td>2017-09-06 12:02:00</td>\n",
       "      <td>2017-09-06 12:10:00</td>\n",
       "      <td>00:17:00</td>\n",
       "    </tr>\n",
       "    <tr>\n",
       "      <th>44</th>\n",
       "      <td>45</td>\n",
       "      <td>X2.8</td>\n",
       "      <td>8307</td>\n",
       "      <td>1998-08-18 08:14:00</td>\n",
       "      <td>1998-08-18 08:24:00</td>\n",
       "      <td>1998-08-18 08:32:00</td>\n",
       "      <td>00:18:00</td>\n",
       "    </tr>\n",
       "    <tr>\n",
       "      <th>23</th>\n",
       "      <td>24</td>\n",
       "      <td>X4.9</td>\n",
       "      <td>8307</td>\n",
       "      <td>1998-08-18 22:10:00</td>\n",
       "      <td>1998-08-18 22:19:00</td>\n",
       "      <td>1998-08-18 22:28:00</td>\n",
       "      <td>00:18:00</td>\n",
       "    </tr>\n",
       "    <tr>\n",
       "      <th>29</th>\n",
       "      <td>30</td>\n",
       "      <td>X3.7</td>\n",
       "      <td>8384</td>\n",
       "      <td>1998-11-22 06:30:00</td>\n",
       "      <td>1998-11-22 06:42:00</td>\n",
       "      <td>1998-11-22 06:49:00</td>\n",
       "      <td>00:19:00</td>\n",
       "    </tr>\n",
       "  </tbody>\n",
       "</table>\n",
       "</div>"
      ],
      "text/plain": [
       "    Rank X_class  Region          Start_time             Max_time  \\\n",
       "35    36    X3.3    1890 2013-11-05 22:07:00  2013-11-05 22:12:00   \n",
       "45    46    X2.7    2339 2015-05-05 22:05:00  2015-05-05 22:11:00   \n",
       "31    32    X3.6     649 2004-07-16 13:49:00  2004-07-16 13:55:00   \n",
       "6      7    X9.4    8100 1997-11-06 11:49:00  1997-11-06 11:55:00   \n",
       "15    16    X6.2    9733 2001-12-13 14:20:00  2001-12-13 14:30:00   \n",
       "27    28    X3.9    8307 1998-08-19 21:35:00  1998-08-19 21:45:00   \n",
       "41    42      X3      30 2002-07-15 19:59:00  2002-07-15 20:08:00   \n",
       "43    44    X2.8    9733 2001-12-11 07:58:00  2001-12-11 08:08:00   \n",
       "7      8    X9.3    2673 2017-09-06 11:53:00  2017-09-06 12:02:00   \n",
       "44    45    X2.8    8307 1998-08-18 08:14:00  1998-08-18 08:24:00   \n",
       "23    24    X4.9    8307 1998-08-18 22:10:00  1998-08-18 22:19:00   \n",
       "29    30    X3.7    8384 1998-11-22 06:30:00  1998-11-22 06:42:00   \n",
       "\n",
       "              End_time Duration  \n",
       "35 2013-11-05 22:15:00 00:08:00  \n",
       "45 2015-05-05 22:15:00 00:10:00  \n",
       "31 2004-07-16 14:01:00 00:12:00  \n",
       "6  1997-11-06 12:01:00 00:12:00  \n",
       "15 2001-12-13 14:35:00 00:15:00  \n",
       "27 1998-08-19 21:50:00 00:15:00  \n",
       "41 2002-07-15 20:14:00 00:15:00  \n",
       "43 2001-12-11 08:14:00 00:16:00  \n",
       "7  2017-09-06 12:10:00 00:17:00  \n",
       "44 1998-08-18 08:32:00 00:18:00  \n",
       "23 1998-08-18 22:28:00 00:18:00  \n",
       "29 1998-11-22 06:49:00 00:19:00  "
      ]
     },
     "execution_count": 51,
     "metadata": {},
     "output_type": "execute_result"
    }
   ],
   "source": [
    "output"
   ]
  },
  {
   "cell_type": "code",
   "execution_count": 52,
   "metadata": {},
   "outputs": [
    {
     "data": {
      "text/plain": [
       "Timedelta('0 days 02:55:00')"
      ]
     },
     "execution_count": 52,
     "metadata": {},
     "output_type": "execute_result"
    }
   ],
   "source": [
    "output.Duration.sum()"
   ]
  },
  {
   "cell_type": "code",
   "execution_count": 53,
   "metadata": {},
   "outputs": [
    {
     "data": {
      "text/plain": [
       "Timedelta('0 days 02:55:00')"
      ]
     },
     "execution_count": 53,
     "metadata": {},
     "output_type": "execute_result"
    }
   ],
   "source": [
    "currentTime"
   ]
  },
  {
   "cell_type": "code",
   "execution_count": 54,
   "metadata": {},
   "outputs": [
    {
     "data": {
      "text/plain": [
       "12"
      ]
     },
     "execution_count": 54,
     "metadata": {},
     "output_type": "execute_result"
    }
   ],
   "source": [
    "no"
   ]
  },
  {
   "cell_type": "code",
   "execution_count": null,
   "metadata": {},
   "outputs": [],
   "source": []
  }
 ],
 "metadata": {
  "kernelspec": {
   "display_name": "Python 3",
   "language": "python",
   "name": "python3"
  },
  "language_info": {
   "codemirror_mode": {
    "name": "ipython",
    "version": 3
   },
   "file_extension": ".py",
   "mimetype": "text/x-python",
   "name": "python",
   "nbconvert_exporter": "python",
   "pygments_lexer": "ipython3",
   "version": "3.7.3"
  }
 },
 "nbformat": 4,
 "nbformat_minor": 2
}
