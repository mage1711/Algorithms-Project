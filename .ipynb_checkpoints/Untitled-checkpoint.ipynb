{
 "cells": [
  {
   "cell_type": "code",
   "execution_count": 1,
   "metadata": {},
   "outputs": [],
   "source": [
    "%load_ext autoreload\n",
    "%autoreload 2"
   ]
  },
  {
   "cell_type": "code",
   "execution_count": 2,
   "metadata": {},
   "outputs": [],
   "source": [
    "import pandas as pd\n",
    "import datetime"
   ]
  },
  {
   "cell_type": "code",
   "execution_count": 3,
   "metadata": {},
   "outputs": [
    {
     "data": {
      "text/html": [
       "<div>\n",
       "<style scoped>\n",
       "    .dataframe tbody tr th:only-of-type {\n",
       "        vertical-align: middle;\n",
       "    }\n",
       "\n",
       "    .dataframe tbody tr th {\n",
       "        vertical-align: top;\n",
       "    }\n",
       "\n",
       "    .dataframe thead th {\n",
       "        text-align: right;\n",
       "    }\n",
       "</style>\n",
       "<table border=\"1\" class=\"dataframe\">\n",
       "  <thead>\n",
       "    <tr style=\"text-align: right;\">\n",
       "      <th></th>\n",
       "      <th>Rank</th>\n",
       "      <th>X_class</th>\n",
       "      <th>Region</th>\n",
       "      <th>Start_time</th>\n",
       "      <th>Max_time</th>\n",
       "      <th>End_time</th>\n",
       "    </tr>\n",
       "  </thead>\n",
       "  <tbody>\n",
       "    <tr>\n",
       "      <th>0</th>\n",
       "      <td>1</td>\n",
       "      <td>X28+</td>\n",
       "      <td>486</td>\n",
       "      <td>2003-11-04 19:29:00</td>\n",
       "      <td>2003-11-04 19:53:00</td>\n",
       "      <td>2003-11-04 20:06:00</td>\n",
       "    </tr>\n",
       "    <tr>\n",
       "      <th>1</th>\n",
       "      <td>2</td>\n",
       "      <td>X20+</td>\n",
       "      <td>9393</td>\n",
       "      <td>2001-04-02 21:32:00</td>\n",
       "      <td>2001-04-02 21:51:00</td>\n",
       "      <td>2001-04-02 22:03:00</td>\n",
       "    </tr>\n",
       "    <tr>\n",
       "      <th>2</th>\n",
       "      <td>3</td>\n",
       "      <td>X17.2+</td>\n",
       "      <td>486</td>\n",
       "      <td>2003-10-28 09:51:00</td>\n",
       "      <td>2003-10-28 11:10:00</td>\n",
       "      <td>2003-10-28 11:24:00</td>\n",
       "    </tr>\n",
       "    <tr>\n",
       "      <th>3</th>\n",
       "      <td>4</td>\n",
       "      <td>X17+</td>\n",
       "      <td>808</td>\n",
       "      <td>2005-09-07 17:17:00</td>\n",
       "      <td>2005-09-07 17:40:00</td>\n",
       "      <td>2005-09-07 18:03:00</td>\n",
       "    </tr>\n",
       "    <tr>\n",
       "      <th>4</th>\n",
       "      <td>5</td>\n",
       "      <td>X14.4</td>\n",
       "      <td>9415</td>\n",
       "      <td>2001-04-15 13:19:00</td>\n",
       "      <td>2001-04-15 13:50:00</td>\n",
       "      <td>2001-04-15 13:55:00</td>\n",
       "    </tr>\n",
       "  </tbody>\n",
       "</table>\n",
       "</div>"
      ],
      "text/plain": [
       "   Rank X_class  Region           Start_time             Max_time  \\\n",
       "0     1    X28+     486  2003-11-04 19:29:00  2003-11-04 19:53:00   \n",
       "1     2    X20+    9393  2001-04-02 21:32:00  2001-04-02 21:51:00   \n",
       "2     3  X17.2+     486  2003-10-28 09:51:00  2003-10-28 11:10:00   \n",
       "3     4    X17+     808  2005-09-07 17:17:00  2005-09-07 17:40:00   \n",
       "4     5   X14.4    9415  2001-04-15 13:19:00  2001-04-15 13:50:00   \n",
       "\n",
       "              End_time  \n",
       "0  2003-11-04 20:06:00  \n",
       "1  2001-04-02 22:03:00  \n",
       "2  2003-10-28 11:24:00  \n",
       "3  2005-09-07 18:03:00  \n",
       "4  2001-04-15 13:55:00  "
      ]
     },
     "execution_count": 3,
     "metadata": {},
     "output_type": "execute_result"
    }
   ],
   "source": [
    "data = pd.read_csv('space.csv', index_col=0)\n",
    "data.head()"
   ]
  },
  {
   "cell_type": "code",
   "execution_count": 4,
   "metadata": {},
   "outputs": [
    {
     "data": {
      "text/plain": [
       "Rank           int64\n",
       "X_class       object\n",
       "Region         int64\n",
       "Start_time    object\n",
       "Max_time      object\n",
       "End_time      object\n",
       "dtype: object"
      ]
     },
     "execution_count": 4,
     "metadata": {},
     "output_type": "execute_result"
    }
   ],
   "source": [
    "data.dtypes"
   ]
  },
  {
   "cell_type": "code",
   "execution_count": 5,
   "metadata": {},
   "outputs": [],
   "source": [
    "data.Start_time, data.End_time = pd.to_datetime(data.Start_time), pd.to_datetime(data.End_time)"
   ]
  },
  {
   "cell_type": "code",
   "execution_count": 6,
   "metadata": {},
   "outputs": [
    {
     "data": {
      "text/plain": [
       "Rank                   int64\n",
       "X_class               object\n",
       "Region                 int64\n",
       "Start_time    datetime64[ns]\n",
       "Max_time              object\n",
       "End_time      datetime64[ns]\n",
       "dtype: object"
      ]
     },
     "execution_count": 6,
     "metadata": {},
     "output_type": "execute_result"
    }
   ],
   "source": [
    "data.dtypes"
   ]
  },
  {
   "cell_type": "code",
   "execution_count": 26,
   "metadata": {},
   "outputs": [
    {
     "data": {
      "text/plain": [
       "0    00:37:00\n",
       "1    00:31:00\n",
       "2    01:33:00\n",
       "3    00:46:00\n",
       "4    00:36:00\n",
       "5    00:24:00\n",
       "6    00:12:00\n",
       "7    00:17:00\n",
       "8    00:27:00\n",
       "9    00:36:00\n",
       "10   00:56:00\n",
       "11   00:50:00\n",
       "12   00:20:00\n",
       "13   00:31:00\n",
       "14   01:23:00\n",
       "15   00:15:00\n",
       "16   00:40:00\n",
       "17   00:21:00\n",
       "18   00:38:00\n",
       "19   00:25:00\n",
       "20   00:30:00\n",
       "21   00:41:00\n",
       "22   00:24:00\n",
       "23   00:18:00\n",
       "24   00:29:00\n",
       "25   00:22:00\n",
       "26   00:36:00\n",
       "27   00:15:00\n",
       "28   03:08:00\n",
       "29   00:19:00\n",
       "30   00:26:00\n",
       "31   00:12:00\n",
       "32   00:22:00\n",
       "33   00:43:00\n",
       "34   01:30:00\n",
       "35   00:08:00\n",
       "36   00:50:00\n",
       "37   01:19:00\n",
       "38   01:20:00\n",
       "39   01:06:00\n",
       "40   00:42:00\n",
       "41   00:15:00\n",
       "42   00:28:00\n",
       "43   00:16:00\n",
       "44   00:18:00\n",
       "45   00:10:00\n",
       "46   00:36:00\n",
       "47   00:22:00\n",
       "48   01:06:00\n",
       "49   01:37:00\n",
       "Name: Duration, dtype: timedelta64[ns]"
      ]
     },
     "execution_count": 26,
     "metadata": {},
     "output_type": "execute_result"
    }
   ],
   "source": [
    "data['Duration'] = data.End_time - data.Start_time\n",
    "data['Duration']"
   ]
  },
  {
   "cell_type": "markdown",
   "metadata": {},
   "source": [
    "#### Greedy Algorithm Steps\n",
    "1. Sort the Durations in increasing order\n",
    "2. select each duration item one-by-one\n",
    "3. the time of the event to currentTime \n",
    "4. add one to number of things\n"
   ]
  },
  {
   "cell_type": "code",
   "execution_count": 28,
   "metadata": {},
   "outputs": [],
   "source": [
    "# 1. sort the durations in non-decreasing order\n",
    "data.sort_values('Duration', inplace=True)"
   ]
  },
  {
   "cell_type": "code",
   "execution_count": 85,
   "metadata": {},
   "outputs": [],
   "source": [
    "maxTime = datetime.timedelta(hours = 1)\n",
    "currentTime = datetime.timedelta(minutes=0)\n",
    "numberOfEvents = 0"
   ]
  },
  {
   "cell_type": "code",
   "execution_count": 86,
   "metadata": {},
   "outputs": [
    {
     "name": "stdout",
     "output_type": "stream",
     "text": [
      "0 days 00:08:00\n",
      "0 days 00:10:00\n",
      "0 days 00:12:00\n",
      "0 days 00:12:00\n",
      "0 days 00:15:00\n",
      "**********\n",
      "0 days 00:57:00\n"
     ]
    },
    {
     "data": {
      "text/plain": [
       "5"
      ]
     },
     "execution_count": 86,
     "metadata": {},
     "output_type": "execute_result"
    }
   ],
   "source": [
    "# Loop through the durations of the events\n",
    "for duration in data.Duration:\n",
    "    # add the current duration to the currentTime\n",
    "    currentTime += duration\n",
    "    if currentTime > maxTime:\n",
    "        currentTime -= duration\n",
    "        break\n",
    "    print(duration)\n",
    "    numberOfEvents+=1\n",
    "print('*'*10)\n",
    "print(currentTime)\n",
    "numberOfEvents"
   ]
  },
  {
   "cell_type": "code",
   "execution_count": 45,
   "metadata": {},
   "outputs": [
    {
     "data": {
      "text/plain": [
       "datetime.timedelta(seconds=600)"
      ]
     },
     "execution_count": 45,
     "metadata": {},
     "output_type": "execute_result"
    }
   ],
   "source": [
    "x"
   ]
  },
  {
   "cell_type": "code",
   "execution_count": 46,
   "metadata": {},
   "outputs": [
    {
     "data": {
      "text/plain": [
       "datetime.timedelta(seconds=3600)"
      ]
     },
     "execution_count": 46,
     "metadata": {},
     "output_type": "execute_result"
    }
   ],
   "source": [
    "maxTime = datetime.timedelta(hours=1); maxTime"
   ]
  },
  {
   "cell_type": "code",
   "execution_count": 50,
   "metadata": {},
   "outputs": [
    {
     "data": {
      "text/plain": [
       "Timedelta('0 days 03:08:00')"
      ]
     },
     "execution_count": 50,
     "metadata": {},
     "output_type": "execute_result"
    }
   ],
   "source": [
    "duration"
   ]
  },
  {
   "cell_type": "code",
   "execution_count": 51,
   "metadata": {},
   "outputs": [
    {
     "data": {
      "text/plain": [
       "datetime.timedelta(seconds=3600)"
      ]
     },
     "execution_count": 51,
     "metadata": {},
     "output_type": "execute_result"
    }
   ],
   "source": [
    "maxTime"
   ]
  },
  {
   "cell_type": "code",
   "execution_count": 53,
   "metadata": {},
   "outputs": [
    {
     "data": {
      "text/plain": [
       "Timedelta('0 days 02:08:00')"
      ]
     },
     "execution_count": 53,
     "metadata": {},
     "output_type": "execute_result"
    }
   ],
   "source": [
    "duration - maxTime"
   ]
  },
  {
   "cell_type": "code",
   "execution_count": null,
   "metadata": {},
   "outputs": [],
   "source": []
  },
  {
   "cell_type": "code",
   "execution_count": 47,
   "metadata": {},
   "outputs": [
    {
     "data": {
      "text/plain": [
       "datetime.timedelta(seconds=3000)"
      ]
     },
     "execution_count": 47,
     "metadata": {},
     "output_type": "execute_result"
    }
   ],
   "source": [
    "maxTime - currentTime"
   ]
  },
  {
   "cell_type": "code",
   "execution_count": 21,
   "metadata": {},
   "outputs": [],
   "source": [
    "import greedy"
   ]
  },
  {
   "cell_type": "code",
   "execution_count": 49,
   "metadata": {},
   "outputs": [],
   "source": [
    "output, no, currentTime = greedy.maxNoOfEvnets(3)"
   ]
  },
  {
   "cell_type": "code",
   "execution_count": 50,
   "metadata": {},
   "outputs": [],
   "source": [
    "output = pd.DataFrame(output)"
   ]
  },
  {
   "cell_type": "code",
   "execution_count": 51,
   "metadata": {},
   "outputs": [
    {
     "data": {
      "text/html": [
       "<div>\n",
       "<style scoped>\n",
       "    .dataframe tbody tr th:only-of-type {\n",
       "        vertical-align: middle;\n",
       "    }\n",
       "\n",
       "    .dataframe tbody tr th {\n",
       "        vertical-align: top;\n",
       "    }\n",
       "\n",
       "    .dataframe thead th {\n",
       "        text-align: right;\n",
       "    }\n",
       "</style>\n",
       "<table border=\"1\" class=\"dataframe\">\n",
       "  <thead>\n",
       "    <tr style=\"text-align: right;\">\n",
       "      <th></th>\n",
       "      <th>Rank</th>\n",
       "      <th>X_class</th>\n",
       "      <th>Region</th>\n",
       "      <th>Start_time</th>\n",
       "      <th>Max_time</th>\n",
       "      <th>End_time</th>\n",
       "      <th>Duration</th>\n",
       "    </tr>\n",
       "  </thead>\n",
       "  <tbody>\n",
       "    <tr>\n",
       "      <th>35</th>\n",
       "      <td>36</td>\n",
       "      <td>X3.3</td>\n",
       "      <td>1890</td>\n",
       "      <td>2013-11-05 22:07:00</td>\n",
       "      <td>2013-11-05 22:12:00</td>\n",
       "      <td>2013-11-05 22:15:00</td>\n",
       "      <td>00:08:00</td>\n",
       "    </tr>\n",
       "    <tr>\n",
       "      <th>45</th>\n",
       "      <td>46</td>\n",
       "      <td>X2.7</td>\n",
       "      <td>2339</td>\n",
       "      <td>2015-05-05 22:05:00</td>\n",
       "      <td>2015-05-05 22:11:00</td>\n",
       "      <td>2015-05-05 22:15:00</td>\n",
       "      <td>00:10:00</td>\n",
       "    </tr>\n",
       "    <tr>\n",
       "      <th>31</th>\n",
       "      <td>32</td>\n",
       "      <td>X3.6</td>\n",
       "      <td>649</td>\n",
       "      <td>2004-07-16 13:49:00</td>\n",
       "      <td>2004-07-16 13:55:00</td>\n",
       "      <td>2004-07-16 14:01:00</td>\n",
       "      <td>00:12:00</td>\n",
       "    </tr>\n",
       "    <tr>\n",
       "      <th>6</th>\n",
       "      <td>7</td>\n",
       "      <td>X9.4</td>\n",
       "      <td>8100</td>\n",
       "      <td>1997-11-06 11:49:00</td>\n",
       "      <td>1997-11-06 11:55:00</td>\n",
       "      <td>1997-11-06 12:01:00</td>\n",
       "      <td>00:12:00</td>\n",
       "    </tr>\n",
       "    <tr>\n",
       "      <th>15</th>\n",
       "      <td>16</td>\n",
       "      <td>X6.2</td>\n",
       "      <td>9733</td>\n",
       "      <td>2001-12-13 14:20:00</td>\n",
       "      <td>2001-12-13 14:30:00</td>\n",
       "      <td>2001-12-13 14:35:00</td>\n",
       "      <td>00:15:00</td>\n",
       "    </tr>\n",
       "    <tr>\n",
       "      <th>27</th>\n",
       "      <td>28</td>\n",
       "      <td>X3.9</td>\n",
       "      <td>8307</td>\n",
       "      <td>1998-08-19 21:35:00</td>\n",
       "      <td>1998-08-19 21:45:00</td>\n",
       "      <td>1998-08-19 21:50:00</td>\n",
       "      <td>00:15:00</td>\n",
       "    </tr>\n",
       "    <tr>\n",
       "      <th>41</th>\n",
       "      <td>42</td>\n",
       "      <td>X3</td>\n",
       "      <td>30</td>\n",
       "      <td>2002-07-15 19:59:00</td>\n",
       "      <td>2002-07-15 20:08:00</td>\n",
       "      <td>2002-07-15 20:14:00</td>\n",
       "      <td>00:15:00</td>\n",
       "    </tr>\n",
       "    <tr>\n",
       "      <th>43</th>\n",
       "      <td>44</td>\n",
       "      <td>X2.8</td>\n",
       "      <td>9733</td>\n",
       "      <td>2001-12-11 07:58:00</td>\n",
       "      <td>2001-12-11 08:08:00</td>\n",
       "      <td>2001-12-11 08:14:00</td>\n",
       "      <td>00:16:00</td>\n",
       "    </tr>\n",
       "    <tr>\n",
       "      <th>7</th>\n",
       "      <td>8</td>\n",
       "      <td>X9.3</td>\n",
       "      <td>2673</td>\n",
       "      <td>2017-09-06 11:53:00</td>\n",
       "      <td>2017-09-06 12:02:00</td>\n",
       "      <td>2017-09-06 12:10:00</td>\n",
       "      <td>00:17:00</td>\n",
       "    </tr>\n",
       "    <tr>\n",
       "      <th>44</th>\n",
       "      <td>45</td>\n",
       "      <td>X2.8</td>\n",
       "      <td>8307</td>\n",
       "      <td>1998-08-18 08:14:00</td>\n",
       "      <td>1998-08-18 08:24:00</td>\n",
       "      <td>1998-08-18 08:32:00</td>\n",
       "      <td>00:18:00</td>\n",
       "    </tr>\n",
       "    <tr>\n",
       "      <th>23</th>\n",
       "      <td>24</td>\n",
       "      <td>X4.9</td>\n",
       "      <td>8307</td>\n",
       "      <td>1998-08-18 22:10:00</td>\n",
       "      <td>1998-08-18 22:19:00</td>\n",
       "      <td>1998-08-18 22:28:00</td>\n",
       "      <td>00:18:00</td>\n",
       "    </tr>\n",
       "    <tr>\n",
       "      <th>29</th>\n",
       "      <td>30</td>\n",
       "      <td>X3.7</td>\n",
       "      <td>8384</td>\n",
       "      <td>1998-11-22 06:30:00</td>\n",
       "      <td>1998-11-22 06:42:00</td>\n",
       "      <td>1998-11-22 06:49:00</td>\n",
       "      <td>00:19:00</td>\n",
       "    </tr>\n",
       "  </tbody>\n",
       "</table>\n",
       "</div>"
      ],
      "text/plain": [
       "    Rank X_class  Region          Start_time             Max_time  \\\n",
       "35    36    X3.3    1890 2013-11-05 22:07:00  2013-11-05 22:12:00   \n",
       "45    46    X2.7    2339 2015-05-05 22:05:00  2015-05-05 22:11:00   \n",
       "31    32    X3.6     649 2004-07-16 13:49:00  2004-07-16 13:55:00   \n",
       "6      7    X9.4    8100 1997-11-06 11:49:00  1997-11-06 11:55:00   \n",
       "15    16    X6.2    9733 2001-12-13 14:20:00  2001-12-13 14:30:00   \n",
       "27    28    X3.9    8307 1998-08-19 21:35:00  1998-08-19 21:45:00   \n",
       "41    42      X3      30 2002-07-15 19:59:00  2002-07-15 20:08:00   \n",
       "43    44    X2.8    9733 2001-12-11 07:58:00  2001-12-11 08:08:00   \n",
       "7      8    X9.3    2673 2017-09-06 11:53:00  2017-09-06 12:02:00   \n",
       "44    45    X2.8    8307 1998-08-18 08:14:00  1998-08-18 08:24:00   \n",
       "23    24    X4.9    8307 1998-08-18 22:10:00  1998-08-18 22:19:00   \n",
       "29    30    X3.7    8384 1998-11-22 06:30:00  1998-11-22 06:42:00   \n",
       "\n",
       "              End_time Duration  \n",
       "35 2013-11-05 22:15:00 00:08:00  \n",
       "45 2015-05-05 22:15:00 00:10:00  \n",
       "31 2004-07-16 14:01:00 00:12:00  \n",
       "6  1997-11-06 12:01:00 00:12:00  \n",
       "15 2001-12-13 14:35:00 00:15:00  \n",
       "27 1998-08-19 21:50:00 00:15:00  \n",
       "41 2002-07-15 20:14:00 00:15:00  \n",
       "43 2001-12-11 08:14:00 00:16:00  \n",
       "7  2017-09-06 12:10:00 00:17:00  \n",
       "44 1998-08-18 08:32:00 00:18:00  \n",
       "23 1998-08-18 22:28:00 00:18:00  \n",
       "29 1998-11-22 06:49:00 00:19:00  "
      ]
     },
     "execution_count": 51,
     "metadata": {},
     "output_type": "execute_result"
    }
   ],
   "source": [
    "output"
   ]
  },
  {
   "cell_type": "code",
   "execution_count": 52,
   "metadata": {},
   "outputs": [
    {
     "data": {
      "text/plain": [
       "Timedelta('0 days 02:55:00')"
      ]
     },
     "execution_count": 52,
     "metadata": {},
     "output_type": "execute_result"
    }
   ],
   "source": [
    "output.Duration.sum()"
   ]
  },
  {
   "cell_type": "code",
   "execution_count": 53,
   "metadata": {},
   "outputs": [
    {
     "data": {
      "text/plain": [
       "Timedelta('0 days 02:55:00')"
      ]
     },
     "execution_count": 53,
     "metadata": {},
     "output_type": "execute_result"
    }
   ],
   "source": [
    "currentTime"
   ]
  },
  {
   "cell_type": "code",
   "execution_count": 54,
   "metadata": {},
   "outputs": [
    {
     "data": {
      "text/plain": [
       "12"
      ]
     },
     "execution_count": 54,
     "metadata": {},
     "output_type": "execute_result"
    }
   ],
   "source": [
    "no"
   ]
  },
  {
   "cell_type": "markdown",
   "metadata": {},
   "source": [
    "# Algorithm 2\n"
   ]
  },
  {
   "cell_type": "code",
   "execution_count": 14,
   "metadata": {},
   "outputs": [],
   "source": [
    "# sort the data based on the start date\n",
    "data = data.sort_values(by='Start_time')"
   ]
  },
  {
   "cell_type": "code",
   "execution_count": 15,
   "metadata": {},
   "outputs": [
    {
     "data": {
      "text/html": [
       "<div>\n",
       "<style scoped>\n",
       "    .dataframe tbody tr th:only-of-type {\n",
       "        vertical-align: middle;\n",
       "    }\n",
       "\n",
       "    .dataframe tbody tr th {\n",
       "        vertical-align: top;\n",
       "    }\n",
       "\n",
       "    .dataframe thead th {\n",
       "        text-align: right;\n",
       "    }\n",
       "</style>\n",
       "<table border=\"1\" class=\"dataframe\">\n",
       "  <thead>\n",
       "    <tr style=\"text-align: right;\">\n",
       "      <th></th>\n",
       "      <th>Rank</th>\n",
       "      <th>X_class</th>\n",
       "      <th>Region</th>\n",
       "      <th>Start_time</th>\n",
       "      <th>Max_time</th>\n",
       "      <th>End_time</th>\n",
       "    </tr>\n",
       "  </thead>\n",
       "  <tbody>\n",
       "    <tr>\n",
       "      <th>6</th>\n",
       "      <td>7</td>\n",
       "      <td>X9.4</td>\n",
       "      <td>8100</td>\n",
       "      <td>1997-11-06 11:49:00</td>\n",
       "      <td>1997-11-06 11:55:00</td>\n",
       "      <td>1997-11-06 12:01:00</td>\n",
       "    </tr>\n",
       "    <tr>\n",
       "      <th>47</th>\n",
       "      <td>48</td>\n",
       "      <td>X2.7</td>\n",
       "      <td>8210</td>\n",
       "      <td>1998-05-06 07:58:00</td>\n",
       "      <td>1998-05-06 08:09:00</td>\n",
       "      <td>1998-05-06 08:20:00</td>\n",
       "    </tr>\n",
       "    <tr>\n",
       "      <th>44</th>\n",
       "      <td>45</td>\n",
       "      <td>X2.8</td>\n",
       "      <td>8307</td>\n",
       "      <td>1998-08-18 08:14:00</td>\n",
       "      <td>1998-08-18 08:24:00</td>\n",
       "      <td>1998-08-18 08:32:00</td>\n",
       "    </tr>\n",
       "    <tr>\n",
       "      <th>23</th>\n",
       "      <td>24</td>\n",
       "      <td>X4.9</td>\n",
       "      <td>8307</td>\n",
       "      <td>1998-08-18 22:10:00</td>\n",
       "      <td>1998-08-18 22:19:00</td>\n",
       "      <td>1998-08-18 22:28:00</td>\n",
       "    </tr>\n",
       "    <tr>\n",
       "      <th>27</th>\n",
       "      <td>28</td>\n",
       "      <td>X3.9</td>\n",
       "      <td>8307</td>\n",
       "      <td>1998-08-19 21:35:00</td>\n",
       "      <td>1998-08-19 21:45:00</td>\n",
       "      <td>1998-08-19 21:50:00</td>\n",
       "    </tr>\n",
       "    <tr>\n",
       "      <th>29</th>\n",
       "      <td>30</td>\n",
       "      <td>X3.7</td>\n",
       "      <td>8384</td>\n",
       "      <td>1998-11-22 06:30:00</td>\n",
       "      <td>1998-11-22 06:42:00</td>\n",
       "      <td>1998-11-22 06:49:00</td>\n",
       "    </tr>\n",
       "    <tr>\n",
       "      <th>37</th>\n",
       "      <td>38</td>\n",
       "      <td>X3.3</td>\n",
       "      <td>8395</td>\n",
       "      <td>1998-11-28 04:54:00</td>\n",
       "      <td>1998-11-28 05:52:00</td>\n",
       "      <td>1998-11-28 06:13:00</td>\n",
       "    </tr>\n",
       "    <tr>\n",
       "      <th>16</th>\n",
       "      <td>17</td>\n",
       "      <td>X5.7</td>\n",
       "      <td>9077</td>\n",
       "      <td>2000-07-14 10:03:00</td>\n",
       "      <td>2000-07-14 10:24:00</td>\n",
       "      <td>2000-07-14 10:43:00</td>\n",
       "    </tr>\n",
       "    <tr>\n",
       "      <th>25</th>\n",
       "      <td>26</td>\n",
       "      <td>X4</td>\n",
       "      <td>9236</td>\n",
       "      <td>2000-11-26 16:34:00</td>\n",
       "      <td>2000-11-26 16:48:00</td>\n",
       "      <td>2000-11-26 16:56:00</td>\n",
       "    </tr>\n",
       "    <tr>\n",
       "      <th>1</th>\n",
       "      <td>2</td>\n",
       "      <td>X20+</td>\n",
       "      <td>9393</td>\n",
       "      <td>2001-04-02 21:32:00</td>\n",
       "      <td>2001-04-02 21:51:00</td>\n",
       "      <td>2001-04-02 22:03:00</td>\n",
       "    </tr>\n",
       "    <tr>\n",
       "      <th>17</th>\n",
       "      <td>18</td>\n",
       "      <td>X5.6</td>\n",
       "      <td>9415</td>\n",
       "      <td>2001-04-06 19:10:00</td>\n",
       "      <td>2001-04-06 19:21:00</td>\n",
       "      <td>2001-04-06 19:31:00</td>\n",
       "    </tr>\n",
       "    <tr>\n",
       "      <th>4</th>\n",
       "      <td>5</td>\n",
       "      <td>X14.4</td>\n",
       "      <td>9415</td>\n",
       "      <td>2001-04-15 13:19:00</td>\n",
       "      <td>2001-04-15 13:50:00</td>\n",
       "      <td>2001-04-15 13:55:00</td>\n",
       "    </tr>\n",
       "    <tr>\n",
       "      <th>21</th>\n",
       "      <td>22</td>\n",
       "      <td>X5.3</td>\n",
       "      <td>9591</td>\n",
       "      <td>2001-08-25 16:23:00</td>\n",
       "      <td>2001-08-25 16:45:00</td>\n",
       "      <td>2001-08-25 17:04:00</td>\n",
       "    </tr>\n",
       "    <tr>\n",
       "      <th>49</th>\n",
       "      <td>50</td>\n",
       "      <td>X2.6</td>\n",
       "      <td>9632</td>\n",
       "      <td>2001-09-24 09:32:00</td>\n",
       "      <td>2001-09-24 10:38:00</td>\n",
       "      <td>2001-09-24 11:09:00</td>\n",
       "    </tr>\n",
       "    <tr>\n",
       "      <th>43</th>\n",
       "      <td>44</td>\n",
       "      <td>X2.8</td>\n",
       "      <td>9733</td>\n",
       "      <td>2001-12-11 07:58:00</td>\n",
       "      <td>2001-12-11 08:08:00</td>\n",
       "      <td>2001-12-11 08:14:00</td>\n",
       "    </tr>\n",
       "    <tr>\n",
       "      <th>15</th>\n",
       "      <td>16</td>\n",
       "      <td>X6.2</td>\n",
       "      <td>9733</td>\n",
       "      <td>2001-12-13 14:20:00</td>\n",
       "      <td>2001-12-13 14:30:00</td>\n",
       "      <td>2001-12-13 14:35:00</td>\n",
       "    </tr>\n",
       "    <tr>\n",
       "      <th>34</th>\n",
       "      <td>35</td>\n",
       "      <td>X3.4</td>\n",
       "      <td>9767</td>\n",
       "      <td>2001-12-28 20:02:00</td>\n",
       "      <td>2001-12-28 20:45:00</td>\n",
       "      <td>2001-12-28 21:32:00</td>\n",
       "    </tr>\n",
       "    <tr>\n",
       "      <th>41</th>\n",
       "      <td>42</td>\n",
       "      <td>X3</td>\n",
       "      <td>30</td>\n",
       "      <td>2002-07-15 19:59:00</td>\n",
       "      <td>2002-07-15 20:08:00</td>\n",
       "      <td>2002-07-15 20:14:00</td>\n",
       "    </tr>\n",
       "    <tr>\n",
       "      <th>36</th>\n",
       "      <td>37</td>\n",
       "      <td>X3.3</td>\n",
       "      <td>39</td>\n",
       "      <td>2002-07-20 21:04:00</td>\n",
       "      <td>2002-07-20 21:30:00</td>\n",
       "      <td>2002-07-20 21:54:00</td>\n",
       "    </tr>\n",
       "    <tr>\n",
       "      <th>24</th>\n",
       "      <td>25</td>\n",
       "      <td>X4.8</td>\n",
       "      <td>39</td>\n",
       "      <td>2002-07-23 00:18:00</td>\n",
       "      <td>2002-07-23 00:35:00</td>\n",
       "      <td>2002-07-23 00:47:00</td>\n",
       "    </tr>\n",
       "    <tr>\n",
       "      <th>40</th>\n",
       "      <td>41</td>\n",
       "      <td>X3.1</td>\n",
       "      <td>69</td>\n",
       "      <td>2002-08-24 00:49:00</td>\n",
       "      <td>2002-08-24 01:12:00</td>\n",
       "      <td>2002-08-24 01:31:00</td>\n",
       "    </tr>\n",
       "    <tr>\n",
       "      <th>32</th>\n",
       "      <td>33</td>\n",
       "      <td>X3.6</td>\n",
       "      <td>365</td>\n",
       "      <td>2003-05-28 00:17:00</td>\n",
       "      <td>2003-05-28 00:27:00</td>\n",
       "      <td>2003-05-28 00:39:00</td>\n",
       "    </tr>\n",
       "    <tr>\n",
       "      <th>20</th>\n",
       "      <td>21</td>\n",
       "      <td>X5.4</td>\n",
       "      <td>486</td>\n",
       "      <td>2003-10-23 08:19:00</td>\n",
       "      <td>2003-10-23 08:35:00</td>\n",
       "      <td>2003-10-23 08:49:00</td>\n",
       "    </tr>\n",
       "    <tr>\n",
       "      <th>2</th>\n",
       "      <td>3</td>\n",
       "      <td>X17.2+</td>\n",
       "      <td>486</td>\n",
       "      <td>2003-10-28 09:51:00</td>\n",
       "      <td>2003-10-28 11:10:00</td>\n",
       "      <td>2003-10-28 11:24:00</td>\n",
       "    </tr>\n",
       "    <tr>\n",
       "      <th>5</th>\n",
       "      <td>6</td>\n",
       "      <td>X10</td>\n",
       "      <td>486</td>\n",
       "      <td>2003-10-29 20:37:00</td>\n",
       "      <td>2003-10-29 20:49:00</td>\n",
       "      <td>2003-10-29 21:01:00</td>\n",
       "    </tr>\n",
       "    <tr>\n",
       "      <th>9</th>\n",
       "      <td>10</td>\n",
       "      <td>X8.3</td>\n",
       "      <td>486</td>\n",
       "      <td>2003-11-02 17:03:00</td>\n",
       "      <td>2003-11-02 17:25:00</td>\n",
       "      <td>2003-11-02 17:39:00</td>\n",
       "    </tr>\n",
       "    <tr>\n",
       "      <th>46</th>\n",
       "      <td>47</td>\n",
       "      <td>X2.7</td>\n",
       "      <td>488</td>\n",
       "      <td>2003-11-03 01:09:00</td>\n",
       "      <td>2003-11-03 01:30:00</td>\n",
       "      <td>2003-11-03 01:45:00</td>\n",
       "    </tr>\n",
       "    <tr>\n",
       "      <th>26</th>\n",
       "      <td>27</td>\n",
       "      <td>X3.9</td>\n",
       "      <td>488</td>\n",
       "      <td>2003-11-03 09:43:00</td>\n",
       "      <td>2003-11-03 09:55:00</td>\n",
       "      <td>2003-11-03 10:19:00</td>\n",
       "    </tr>\n",
       "    <tr>\n",
       "      <th>0</th>\n",
       "      <td>1</td>\n",
       "      <td>X28+</td>\n",
       "      <td>486</td>\n",
       "      <td>2003-11-04 19:29:00</td>\n",
       "      <td>2003-11-04 19:53:00</td>\n",
       "      <td>2003-11-04 20:06:00</td>\n",
       "    </tr>\n",
       "    <tr>\n",
       "      <th>31</th>\n",
       "      <td>32</td>\n",
       "      <td>X3.6</td>\n",
       "      <td>649</td>\n",
       "      <td>2004-07-16 13:49:00</td>\n",
       "      <td>2004-07-16 13:55:00</td>\n",
       "      <td>2004-07-16 14:01:00</td>\n",
       "    </tr>\n",
       "    <tr>\n",
       "      <th>48</th>\n",
       "      <td>49</td>\n",
       "      <td>X2.6</td>\n",
       "      <td>720</td>\n",
       "      <td>2005-01-15 22:25:00</td>\n",
       "      <td>2005-01-15 23:02:00</td>\n",
       "      <td>2005-01-15 23:31:00</td>\n",
       "    </tr>\n",
       "    <tr>\n",
       "      <th>28</th>\n",
       "      <td>29</td>\n",
       "      <td>X3.8</td>\n",
       "      <td>720</td>\n",
       "      <td>2005-01-17 06:59:00</td>\n",
       "      <td>2005-01-17 09:52:00</td>\n",
       "      <td>2005-01-17 10:07:00</td>\n",
       "    </tr>\n",
       "    <tr>\n",
       "      <th>11</th>\n",
       "      <td>12</td>\n",
       "      <td>X7.1</td>\n",
       "      <td>720</td>\n",
       "      <td>2005-01-20 06:36:00</td>\n",
       "      <td>2005-01-20 07:01:00</td>\n",
       "      <td>2005-01-20 07:26:00</td>\n",
       "    </tr>\n",
       "    <tr>\n",
       "      <th>3</th>\n",
       "      <td>4</td>\n",
       "      <td>X17+</td>\n",
       "      <td>808</td>\n",
       "      <td>2005-09-07 17:17:00</td>\n",
       "      <td>2005-09-07 17:40:00</td>\n",
       "      <td>2005-09-07 18:03:00</td>\n",
       "    </tr>\n",
       "    <tr>\n",
       "      <th>19</th>\n",
       "      <td>20</td>\n",
       "      <td>X5.4</td>\n",
       "      <td>808</td>\n",
       "      <td>2005-09-08 20:52:00</td>\n",
       "      <td>2005-09-08 21:06:00</td>\n",
       "      <td>2005-09-08 21:17:00</td>\n",
       "    </tr>\n",
       "    <tr>\n",
       "      <th>30</th>\n",
       "      <td>31</td>\n",
       "      <td>X3.6</td>\n",
       "      <td>808</td>\n",
       "      <td>2005-09-09 09:42:00</td>\n",
       "      <td>2005-09-09 09:59:00</td>\n",
       "      <td>2005-09-09 10:08:00</td>\n",
       "    </tr>\n",
       "    <tr>\n",
       "      <th>14</th>\n",
       "      <td>15</td>\n",
       "      <td>X6.2</td>\n",
       "      <td>808</td>\n",
       "      <td>2005-09-09 19:13:00</td>\n",
       "      <td>2005-09-09 20:04:00</td>\n",
       "      <td>2005-09-09 20:36:00</td>\n",
       "    </tr>\n",
       "    <tr>\n",
       "      <th>8</th>\n",
       "      <td>9</td>\n",
       "      <td>X9</td>\n",
       "      <td>930</td>\n",
       "      <td>2006-12-05 10:18:00</td>\n",
       "      <td>2006-12-05 10:35:00</td>\n",
       "      <td>2006-12-05 10:45:00</td>\n",
       "    </tr>\n",
       "    <tr>\n",
       "      <th>13</th>\n",
       "      <td>14</td>\n",
       "      <td>X6.5</td>\n",
       "      <td>930</td>\n",
       "      <td>2006-12-06 18:29:00</td>\n",
       "      <td>2006-12-06 18:47:00</td>\n",
       "      <td>2006-12-06 19:00:00</td>\n",
       "    </tr>\n",
       "    <tr>\n",
       "      <th>33</th>\n",
       "      <td>34</td>\n",
       "      <td>X3.4</td>\n",
       "      <td>930</td>\n",
       "      <td>2006-12-13 02:14:00</td>\n",
       "      <td>2006-12-13 02:40:00</td>\n",
       "      <td>2006-12-13 02:57:00</td>\n",
       "    </tr>\n",
       "    <tr>\n",
       "      <th>12</th>\n",
       "      <td>13</td>\n",
       "      <td>X6.9</td>\n",
       "      <td>1263</td>\n",
       "      <td>2011-08-09 07:48:00</td>\n",
       "      <td>2011-08-09 08:05:00</td>\n",
       "      <td>2011-08-09 08:08:00</td>\n",
       "    </tr>\n",
       "    <tr>\n",
       "      <th>18</th>\n",
       "      <td>19</td>\n",
       "      <td>X5.4</td>\n",
       "      <td>1429</td>\n",
       "      <td>2012-03-07 00:02:00</td>\n",
       "      <td>2012-03-07 00:24:00</td>\n",
       "      <td>2012-03-07 00:40:00</td>\n",
       "    </tr>\n",
       "    <tr>\n",
       "      <th>42</th>\n",
       "      <td>43</td>\n",
       "      <td>X2.8</td>\n",
       "      <td>1748</td>\n",
       "      <td>2013-05-13 15:48:00</td>\n",
       "      <td>2013-05-13 16:05:00</td>\n",
       "      <td>2013-05-13 16:16:00</td>\n",
       "    </tr>\n",
       "    <tr>\n",
       "      <th>38</th>\n",
       "      <td>39</td>\n",
       "      <td>X3.2</td>\n",
       "      <td>1748</td>\n",
       "      <td>2013-05-14 00:00:00</td>\n",
       "      <td>2013-05-14 01:11:00</td>\n",
       "      <td>2013-05-14 01:20:00</td>\n",
       "    </tr>\n",
       "    <tr>\n",
       "      <th>35</th>\n",
       "      <td>36</td>\n",
       "      <td>X3.3</td>\n",
       "      <td>1890</td>\n",
       "      <td>2013-11-05 22:07:00</td>\n",
       "      <td>2013-11-05 22:12:00</td>\n",
       "      <td>2013-11-05 22:15:00</td>\n",
       "    </tr>\n",
       "    <tr>\n",
       "      <th>22</th>\n",
       "      <td>23</td>\n",
       "      <td>X4.9</td>\n",
       "      <td>1990</td>\n",
       "      <td>2014-02-25 00:39:00</td>\n",
       "      <td>2014-02-25 00:49:00</td>\n",
       "      <td>2014-02-25 01:03:00</td>\n",
       "    </tr>\n",
       "    <tr>\n",
       "      <th>39</th>\n",
       "      <td>40</td>\n",
       "      <td>X3.1</td>\n",
       "      <td>2192</td>\n",
       "      <td>2014-10-24 21:07:00</td>\n",
       "      <td>2014-10-24 21:41:00</td>\n",
       "      <td>2014-10-24 22:13:00</td>\n",
       "    </tr>\n",
       "    <tr>\n",
       "      <th>45</th>\n",
       "      <td>46</td>\n",
       "      <td>X2.7</td>\n",
       "      <td>2339</td>\n",
       "      <td>2015-05-05 22:05:00</td>\n",
       "      <td>2015-05-05 22:11:00</td>\n",
       "      <td>2015-05-05 22:15:00</td>\n",
       "    </tr>\n",
       "    <tr>\n",
       "      <th>7</th>\n",
       "      <td>8</td>\n",
       "      <td>X9.3</td>\n",
       "      <td>2673</td>\n",
       "      <td>2017-09-06 11:53:00</td>\n",
       "      <td>2017-09-06 12:02:00</td>\n",
       "      <td>2017-09-06 12:10:00</td>\n",
       "    </tr>\n",
       "    <tr>\n",
       "      <th>10</th>\n",
       "      <td>11</td>\n",
       "      <td>X8.2</td>\n",
       "      <td>2673</td>\n",
       "      <td>2017-09-10 15:35:00</td>\n",
       "      <td>2017-09-10 16:06:00</td>\n",
       "      <td>2017-09-10 16:31:00</td>\n",
       "    </tr>\n",
       "  </tbody>\n",
       "</table>\n",
       "</div>"
      ],
      "text/plain": [
       "    Rank X_class  Region          Start_time             Max_time  \\\n",
       "6      7    X9.4    8100 1997-11-06 11:49:00  1997-11-06 11:55:00   \n",
       "47    48    X2.7    8210 1998-05-06 07:58:00  1998-05-06 08:09:00   \n",
       "44    45    X2.8    8307 1998-08-18 08:14:00  1998-08-18 08:24:00   \n",
       "23    24    X4.9    8307 1998-08-18 22:10:00  1998-08-18 22:19:00   \n",
       "27    28    X3.9    8307 1998-08-19 21:35:00  1998-08-19 21:45:00   \n",
       "29    30    X3.7    8384 1998-11-22 06:30:00  1998-11-22 06:42:00   \n",
       "37    38    X3.3    8395 1998-11-28 04:54:00  1998-11-28 05:52:00   \n",
       "16    17    X5.7    9077 2000-07-14 10:03:00  2000-07-14 10:24:00   \n",
       "25    26      X4    9236 2000-11-26 16:34:00  2000-11-26 16:48:00   \n",
       "1      2    X20+    9393 2001-04-02 21:32:00  2001-04-02 21:51:00   \n",
       "17    18    X5.6    9415 2001-04-06 19:10:00  2001-04-06 19:21:00   \n",
       "4      5   X14.4    9415 2001-04-15 13:19:00  2001-04-15 13:50:00   \n",
       "21    22    X5.3    9591 2001-08-25 16:23:00  2001-08-25 16:45:00   \n",
       "49    50    X2.6    9632 2001-09-24 09:32:00  2001-09-24 10:38:00   \n",
       "43    44    X2.8    9733 2001-12-11 07:58:00  2001-12-11 08:08:00   \n",
       "15    16    X6.2    9733 2001-12-13 14:20:00  2001-12-13 14:30:00   \n",
       "34    35    X3.4    9767 2001-12-28 20:02:00  2001-12-28 20:45:00   \n",
       "41    42      X3      30 2002-07-15 19:59:00  2002-07-15 20:08:00   \n",
       "36    37    X3.3      39 2002-07-20 21:04:00  2002-07-20 21:30:00   \n",
       "24    25    X4.8      39 2002-07-23 00:18:00  2002-07-23 00:35:00   \n",
       "40    41    X3.1      69 2002-08-24 00:49:00  2002-08-24 01:12:00   \n",
       "32    33    X3.6     365 2003-05-28 00:17:00  2003-05-28 00:27:00   \n",
       "20    21    X5.4     486 2003-10-23 08:19:00  2003-10-23 08:35:00   \n",
       "2      3  X17.2+     486 2003-10-28 09:51:00  2003-10-28 11:10:00   \n",
       "5      6     X10     486 2003-10-29 20:37:00  2003-10-29 20:49:00   \n",
       "9     10    X8.3     486 2003-11-02 17:03:00  2003-11-02 17:25:00   \n",
       "46    47    X2.7     488 2003-11-03 01:09:00  2003-11-03 01:30:00   \n",
       "26    27    X3.9     488 2003-11-03 09:43:00  2003-11-03 09:55:00   \n",
       "0      1    X28+     486 2003-11-04 19:29:00  2003-11-04 19:53:00   \n",
       "31    32    X3.6     649 2004-07-16 13:49:00  2004-07-16 13:55:00   \n",
       "48    49    X2.6     720 2005-01-15 22:25:00  2005-01-15 23:02:00   \n",
       "28    29    X3.8     720 2005-01-17 06:59:00  2005-01-17 09:52:00   \n",
       "11    12    X7.1     720 2005-01-20 06:36:00  2005-01-20 07:01:00   \n",
       "3      4    X17+     808 2005-09-07 17:17:00  2005-09-07 17:40:00   \n",
       "19    20    X5.4     808 2005-09-08 20:52:00  2005-09-08 21:06:00   \n",
       "30    31    X3.6     808 2005-09-09 09:42:00  2005-09-09 09:59:00   \n",
       "14    15    X6.2     808 2005-09-09 19:13:00  2005-09-09 20:04:00   \n",
       "8      9      X9     930 2006-12-05 10:18:00  2006-12-05 10:35:00   \n",
       "13    14    X6.5     930 2006-12-06 18:29:00  2006-12-06 18:47:00   \n",
       "33    34    X3.4     930 2006-12-13 02:14:00  2006-12-13 02:40:00   \n",
       "12    13    X6.9    1263 2011-08-09 07:48:00  2011-08-09 08:05:00   \n",
       "18    19    X5.4    1429 2012-03-07 00:02:00  2012-03-07 00:24:00   \n",
       "42    43    X2.8    1748 2013-05-13 15:48:00  2013-05-13 16:05:00   \n",
       "38    39    X3.2    1748 2013-05-14 00:00:00  2013-05-14 01:11:00   \n",
       "35    36    X3.3    1890 2013-11-05 22:07:00  2013-11-05 22:12:00   \n",
       "22    23    X4.9    1990 2014-02-25 00:39:00  2014-02-25 00:49:00   \n",
       "39    40    X3.1    2192 2014-10-24 21:07:00  2014-10-24 21:41:00   \n",
       "45    46    X2.7    2339 2015-05-05 22:05:00  2015-05-05 22:11:00   \n",
       "7      8    X9.3    2673 2017-09-06 11:53:00  2017-09-06 12:02:00   \n",
       "10    11    X8.2    2673 2017-09-10 15:35:00  2017-09-10 16:06:00   \n",
       "\n",
       "              End_time  \n",
       "6  1997-11-06 12:01:00  \n",
       "47 1998-05-06 08:20:00  \n",
       "44 1998-08-18 08:32:00  \n",
       "23 1998-08-18 22:28:00  \n",
       "27 1998-08-19 21:50:00  \n",
       "29 1998-11-22 06:49:00  \n",
       "37 1998-11-28 06:13:00  \n",
       "16 2000-07-14 10:43:00  \n",
       "25 2000-11-26 16:56:00  \n",
       "1  2001-04-02 22:03:00  \n",
       "17 2001-04-06 19:31:00  \n",
       "4  2001-04-15 13:55:00  \n",
       "21 2001-08-25 17:04:00  \n",
       "49 2001-09-24 11:09:00  \n",
       "43 2001-12-11 08:14:00  \n",
       "15 2001-12-13 14:35:00  \n",
       "34 2001-12-28 21:32:00  \n",
       "41 2002-07-15 20:14:00  \n",
       "36 2002-07-20 21:54:00  \n",
       "24 2002-07-23 00:47:00  \n",
       "40 2002-08-24 01:31:00  \n",
       "32 2003-05-28 00:39:00  \n",
       "20 2003-10-23 08:49:00  \n",
       "2  2003-10-28 11:24:00  \n",
       "5  2003-10-29 21:01:00  \n",
       "9  2003-11-02 17:39:00  \n",
       "46 2003-11-03 01:45:00  \n",
       "26 2003-11-03 10:19:00  \n",
       "0  2003-11-04 20:06:00  \n",
       "31 2004-07-16 14:01:00  \n",
       "48 2005-01-15 23:31:00  \n",
       "28 2005-01-17 10:07:00  \n",
       "11 2005-01-20 07:26:00  \n",
       "3  2005-09-07 18:03:00  \n",
       "19 2005-09-08 21:17:00  \n",
       "30 2005-09-09 10:08:00  \n",
       "14 2005-09-09 20:36:00  \n",
       "8  2006-12-05 10:45:00  \n",
       "13 2006-12-06 19:00:00  \n",
       "33 2006-12-13 02:57:00  \n",
       "12 2011-08-09 08:08:00  \n",
       "18 2012-03-07 00:40:00  \n",
       "42 2013-05-13 16:16:00  \n",
       "38 2013-05-14 01:20:00  \n",
       "35 2013-11-05 22:15:00  \n",
       "22 2014-02-25 01:03:00  \n",
       "39 2014-10-24 22:13:00  \n",
       "45 2015-05-05 22:15:00  \n",
       "7  2017-09-06 12:10:00  \n",
       "10 2017-09-10 16:31:00  "
      ]
     },
     "execution_count": 15,
     "metadata": {},
     "output_type": "execute_result"
    }
   ],
   "source": [
    "data"
   ]
  },
  {
   "cell_type": "code",
   "execution_count": 18,
   "metadata": {},
   "outputs": [
    {
     "data": {
      "text/plain": [
       "datetime.timedelta(days=10000)"
      ]
     },
     "execution_count": 18,
     "metadata": {},
     "output_type": "execute_result"
    }
   ],
   "source": [
    "min_difference = datetime.timedelta(days=10000); min_difference"
   ]
  },
  {
   "cell_type": "code",
   "execution_count": 32,
   "metadata": {},
   "outputs": [
    {
     "name": "stdout",
     "output_type": "stream",
     "text": [
      "0 days 08:06:00\n"
     ]
    },
    {
     "data": {
      "text/plain": [
       "[Timestamp('2003-11-03 01:09:00'), Timestamp('2003-11-02 17:03:00')]"
      ]
     },
     "execution_count": 32,
     "metadata": {},
     "output_type": "execute_result"
    }
   ],
   "source": [
    "closest_events = []\n",
    "length = len(data)\n",
    "min_difference = datetime.timedelta(days=10000)\n",
    "\n",
    "for i in range(1 ,length):\n",
    "    #print(data.iloc[i]['Rank'])\n",
    "    difference = data.iloc[i]['Start_time'] - data.iloc[i-1]['Start_time']\n",
    "    if  difference < min_difference:\n",
    "        min_difference = difference\n",
    "        closest_events = [data.iloc[i]['Start_time'], data.iloc[i-1]['Start_time']]\n",
    "\n",
    "print(min_difference)\n",
    "closest_events"
   ]
  },
  {
   "cell_type": "code",
   "execution_count": 24,
   "metadata": {},
   "outputs": [
    {
     "data": {
      "text/plain": [
       "50"
      ]
     },
     "execution_count": 24,
     "metadata": {},
     "output_type": "execute_result"
    }
   ],
   "source": [
    "len(data)"
   ]
  },
  {
   "cell_type": "code",
   "execution_count": 77,
   "metadata": {},
   "outputs": [],
   "source": [
    "from transform import closest_events\n",
    "min_diff, closest_events = closest_events()"
   ]
  },
  {
   "cell_type": "code",
   "execution_count": 78,
   "metadata": {},
   "outputs": [
    {
     "data": {
      "text/plain": [
       "Timedelta('0 days 08:06:00')"
      ]
     },
     "execution_count": 78,
     "metadata": {},
     "output_type": "execute_result"
    }
   ],
   "source": [
    "min_diff"
   ]
  },
  {
   "cell_type": "code",
   "execution_count": 80,
   "metadata": {},
   "outputs": [
    {
     "name": "stdout",
     "output_type": "stream",
     "text": [
      "Rank                           47\n",
      "X_class                      X2.7\n",
      "Region                        488\n",
      "Start_time    2003-11-03 01:09:00\n",
      "Max_time      2003-11-03 01:30:00\n",
      "End_time      2003-11-03 01:45:00\n",
      "Duration          0 days 00:36:00\n",
      "Name: 46, dtype: object\n",
      "iiiiiiiii\n",
      "Rank                           10\n",
      "X_class                      X8.3\n",
      "Region                        486\n",
      "Start_time    2003-11-02 17:03:00\n",
      "Max_time      2003-11-02 17:25:00\n",
      "End_time      2003-11-02 17:39:00\n",
      "Duration          0 days 00:36:00\n",
      "Name: 9, dtype: object\n",
      "iiiiiiiii\n"
     ]
    }
   ],
   "source": [
    "for i in closest_events:\n",
    "    print(i)\n",
    "    print('i'*9)"
   ]
  },
  {
   "cell_type": "markdown",
   "metadata": {},
   "source": [
    "# MergeSort "
   ]
  },
  {
   "cell_type": "code",
   "execution_count": 60,
   "metadata": {},
   "outputs": [
    {
     "name": "stdout",
     "output_type": "stream",
     "text": [
      "Sorted array is:\n",
      "1997-11-06 11:49:00\n",
      "1998-05-06 07:58:00\n",
      "1998-08-18 08:14:00\n",
      "1998-08-18 22:10:00\n",
      "1998-08-19 21:35:00\n",
      "1998-11-22 06:30:00\n",
      "1998-11-28 04:54:00\n",
      "2000-07-14 10:03:00\n",
      "2000-11-26 16:34:00\n",
      "2001-04-02 21:32:00\n",
      "2001-04-06 19:10:00\n",
      "2001-04-15 13:19:00\n",
      "2001-08-25 16:23:00\n",
      "2001-09-24 09:32:00\n",
      "2001-12-11 07:58:00\n",
      "2001-12-13 14:20:00\n",
      "2001-12-28 20:02:00\n",
      "2002-07-15 19:59:00\n",
      "2002-07-20 21:04:00\n",
      "2002-07-23 00:18:00\n",
      "2002-08-24 00:49:00\n",
      "2003-05-28 00:17:00\n",
      "2003-10-23 08:19:00\n",
      "2003-10-28 09:51:00\n",
      "2003-10-29 20:37:00\n",
      "2003-11-02 17:03:00\n",
      "2003-11-03 01:09:00\n",
      "2003-11-03 09:43:00\n",
      "2003-11-04 19:29:00\n",
      "2004-07-16 13:49:00\n",
      "2005-01-15 22:25:00\n",
      "2005-01-17 06:59:00\n",
      "2005-01-20 06:36:00\n",
      "2005-09-07 17:17:00\n",
      "2005-09-08 20:52:00\n",
      "2005-09-09 09:42:00\n",
      "2005-09-09 19:13:00\n",
      "2006-12-05 10:18:00\n",
      "2006-12-06 18:29:00\n",
      "2006-12-13 02:14:00\n",
      "2011-08-09 07:48:00\n",
      "2012-03-07 00:02:00\n",
      "2013-05-13 15:48:00\n",
      "2013-05-14 00:00:00\n",
      "2013-11-05 22:07:00\n",
      "2014-02-25 00:39:00\n",
      "2014-10-24 21:07:00\n",
      "2015-05-05 22:05:00\n",
      "2017-09-06 11:53:00\n",
      "2017-09-10 15:35:00\n"
     ]
    }
   ],
   "source": [
    "def partition(arr,low,high): \n",
    "    i = ( low-1 )         # index of smaller element \n",
    "    pivot = arr[high]     # pivot \n",
    "  \n",
    "    for j in range(low , high): \n",
    "  \n",
    "        # If current element is smaller than or \n",
    "        # equal to pivot \n",
    "        if   arr[j] <= pivot: \n",
    "          \n",
    "            # increment index of smaller element \n",
    "            i = i+1 \n",
    "            arr[i],arr[j] = arr[j],arr[i] \n",
    "  \n",
    "    arr[i+1],arr[high] = arr[high],arr[i+1] \n",
    "    return ( i+1 ) \n",
    "  \n",
    "# The main function that implements QuickSort \n",
    "# arr[] --> Array to be sorted, \n",
    "# low  --> Starting index, \n",
    "# high  --> Ending index \n",
    "  \n",
    "# Function to do Quick sort \n",
    "def quickSort(arr,low,high): \n",
    "    if low < high: \n",
    "  \n",
    "        # pi is partitioning index, arr[p] is now \n",
    "        # at right place \n",
    "        pi = partition(arr,low,high) \n",
    "  \n",
    "        # Separately sort elements before \n",
    "        # partition and after partition \n",
    "        quickSort(arr, low, pi-1) \n",
    "        quickSort(arr, pi+1, high) \n",
    "  \n",
    "# Driver code to test above \n",
    "#arr = [10, 7, 8, 9, 1, 5] \n",
    "arr = list(data.Start_time)\n",
    "n = len(arr) \n",
    "quickSort(arr,0,n-1) \n",
    "print (\"Sorted array is:\") \n",
    "for i in range(n): \n",
    "    print (arr[i]), "
   ]
  },
  {
   "cell_type": "code",
   "execution_count": 61,
   "metadata": {},
   "outputs": [],
   "source": [
    "arr = list(data.Start_time)"
   ]
  },
  {
   "cell_type": "code",
   "execution_count": 64,
   "metadata": {},
   "outputs": [
    {
     "data": {
      "text/plain": [
       "datetime.date(2017, 9, 10)"
      ]
     },
     "execution_count": 64,
     "metadata": {},
     "output_type": "execute_result"
    }
   ],
   "source": [
    "arr[i].date()"
   ]
  },
  {
   "cell_type": "code",
   "execution_count": null,
   "metadata": {},
   "outputs": [],
   "source": []
  },
  {
   "cell_type": "code",
   "execution_count": 51,
   "metadata": {},
   "outputs": [
    {
     "data": {
      "text/html": [
       "<div>\n",
       "<style scoped>\n",
       "    .dataframe tbody tr th:only-of-type {\n",
       "        vertical-align: middle;\n",
       "    }\n",
       "\n",
       "    .dataframe tbody tr th {\n",
       "        vertical-align: top;\n",
       "    }\n",
       "\n",
       "    .dataframe thead th {\n",
       "        text-align: right;\n",
       "    }\n",
       "</style>\n",
       "<table border=\"1\" class=\"dataframe\">\n",
       "  <thead>\n",
       "    <tr style=\"text-align: right;\">\n",
       "      <th></th>\n",
       "      <th>Rank</th>\n",
       "      <th>X_class</th>\n",
       "      <th>Region</th>\n",
       "      <th>Start_time</th>\n",
       "      <th>Max_time</th>\n",
       "      <th>End_time</th>\n",
       "    </tr>\n",
       "  </thead>\n",
       "  <tbody>\n",
       "    <tr>\n",
       "      <th>10</th>\n",
       "      <td>11</td>\n",
       "      <td>X8.2</td>\n",
       "      <td>2673</td>\n",
       "      <td>2017-09-10 15:35:00</td>\n",
       "      <td>2017-09-10 16:06:00</td>\n",
       "      <td>2017-09-10 16:31:00</td>\n",
       "    </tr>\n",
       "  </tbody>\n",
       "</table>\n",
       "</div>"
      ],
      "text/plain": [
       "    Rank X_class  Region          Start_time             Max_time  \\\n",
       "10    11    X8.2    2673 2017-09-10 15:35:00  2017-09-10 16:06:00   \n",
       "\n",
       "              End_time  \n",
       "10 2017-09-10 16:31:00  "
      ]
     },
     "execution_count": 51,
     "metadata": {},
     "output_type": "execute_result"
    }
   ],
   "source": [
    "data[data.Start_time == arr[i]]"
   ]
  },
  {
   "cell_type": "code",
   "execution_count": null,
   "metadata": {},
   "outputs": [],
   "source": []
  }
 ],
 "metadata": {
  "kernelspec": {
   "display_name": "Python 3",
   "language": "python",
   "name": "python3"
  },
  "language_info": {
   "codemirror_mode": {
    "name": "ipython",
    "version": 3
   },
   "file_extension": ".py",
   "mimetype": "text/x-python",
   "name": "python",
   "nbconvert_exporter": "python",
   "pygments_lexer": "ipython3",
   "version": "3.7.3"
  }
 },
 "nbformat": 4,
 "nbformat_minor": 2
}
